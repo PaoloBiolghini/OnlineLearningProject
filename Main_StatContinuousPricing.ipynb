{
 "cells": [
  {
   "cell_type": "code",
   "execution_count": 2,
   "id": "f82ac858",
   "metadata": {},
   "outputs": [],
   "source": [
    "from Pricing.GPUCBAgentContinuous import GPUCBAgentContinuous\n",
    "from Pricing.StochasticPricingEnvironment import StochasticPricingEnvironment\n",
    "import numpy as np \n",
    "import matplotlib.pyplot as plt\n",
    "import scipy"
   ]
  },
  {
   "cell_type": "code",
   "execution_count": 3,
   "id": "4b5a3bd4",
   "metadata": {},
   "outputs": [],
   "source": [
    "min_price, max_price = 0, 1\n",
    "n_customers = 100\n",
    "cost = 0.1\n",
    "T = 200"
   ]
  },
  {
   "cell_type": "code",
   "execution_count": 4,
   "id": "aea00103",
   "metadata": {},
   "outputs": [],
   "source": [
    "# conversion prob\n",
    "conversion_probability = lambda p: scipy.stats.norm.cdf(5*(1-p)-2,0,1)"
   ]
  },
  {
   "cell_type": "code",
   "execution_count": 5,
   "id": "4ccc36f9",
   "metadata": {},
   "outputs": [],
   "source": [
    "# reward function\n",
    "def reward_function(price, n_sales):\n",
    "    return (price-cost)*n_sales\n",
    "maximum_profit = reward_function(max_price, n_customers)\n",
    "\n",
    "# profit curve\n",
    "def profit_curve(price):\n",
    "    return reward_function(price, n_customers*conversion_probability(price))\n",
    "\n",
    "def profit_curve_obj(price):\n",
    "    return 1/reward_function(price, n_customers*conversion_probability(price))"
   ]
  },
  {
   "cell_type": "code",
   "execution_count": 6,
   "id": "546964af",
   "metadata": {},
   "outputs": [
    {
     "name": "stdout",
     "output_type": "stream",
     "text": [
      "Optimization procedure ended with success: True.\n",
      "Best price = 0.4976012174218717.\n"
     ]
    }
   ],
   "source": [
    "expected_clairvoyant_rewards = []\n",
    "\n",
    "best_price = scipy.optimize.minimize(profit_curve_obj, x0 = 0.5, bounds = [(0, 1)])\n",
    "print(f'Optimization procedure ended with success: {best_price.success}.\\nBest price = {best_price.x[0]}.')\n",
    "expected_clairvoyant_rewards = np.repeat(profit_curve(best_price.x[0]), T)"
   ]
  },
  {
   "cell_type": "code",
   "execution_count": 7,
   "id": "2b44cb8a",
   "metadata": {},
   "outputs": [],
   "source": [
    "UCB_agent = GPUCBAgentContinuous(T)\n",
    "#Thom_agent = GPThompson(T)\n",
    "env = StochasticPricingEnvironment(conversion_probability=conversion_probability, cost=cost)\n",
    "\n",
    "UCB_agent_rewards = np.array([])\n",
    "#Thom_agent_rewards = np.array([])\n",
    "\n",
    "for t in range(T):\n",
    "    p_tU = UCB_agent.pull_arm()\n",
    "    #p_tT = Thom_agent.pull_arm()\n",
    "    \n",
    "    d_tU, r_tU = env.round(p_tU, n_t=n_customers)\n",
    "    #d_tT, r_tT = env.round(p_tT, n_t=n_customers)\n",
    "    \n",
    "    UCB_agent.update(r_tU/n_customers)\n",
    "    #Thom_agent.update(r_tT/n_customers)\n",
    "    \n",
    "    UCB_agent_rewards = np.append(UCB_agent_rewards, r_tU)\n",
    "    #Thom_agent_rewards = np.append(Thom_agent_rewards, r_tT)"
   ]
  }
 ],
 "metadata": {
  "kernelspec": {
   "display_name": "Python 3 (ipykernel)",
   "language": "python",
   "name": "python3"
  },
  "language_info": {
   "codemirror_mode": {
    "name": "ipython",
    "version": 3
   },
   "file_extension": ".py",
   "mimetype": "text/x-python",
   "name": "python",
   "nbconvert_exporter": "python",
   "pygments_lexer": "ipython3",
   "version": "3.11.5"
  }
 },
 "nbformat": 4,
 "nbformat_minor": 5
}
