{
  "nbformat": 4,
  "nbformat_minor": 0,
  "metadata": {
    "colab": {
      "provenance": []
    },
    "kernelspec": {
      "name": "python3",
      "display_name": "Python 3"
    },
    "language_info": {
      "name": "python"
    }
  },
  "cells": [
    {
      "cell_type": "code",
      "execution_count": 1,
      "metadata": {
        "id": "J62snsx2GYzb"
      },
      "outputs": [],
      "source": [
        "import numpy as np\n",
        "import matplotlib.pyplot as plt\n",
        "from scipy.stats import norm, bernoulli"
      ]
    },
    {
      "cell_type": "code",
      "source": [
        "class PricingEnvironment:\n",
        "    def __init__(self, conversion_probability_1, conversion_probability_2, cost_1, cost_2):\n",
        "        self.conversion_probability_1 = conversion_probability_1\n",
        "        self.conversion_probability_2 = conversion_probability_2\n",
        "        self.cost_1 = cost_1\n",
        "        self.cost_2 = cost_2\n",
        "\n",
        "    def round(self, p_t_1, n_t_1, p_t_2, n_t_2):\n",
        "        d_t_1 = np.random.binomial(n_t_1, self.conversion_probability_1(p_t_1, p_t_2))\n",
        "\n",
        "        r_t_1 = (p_t_1 - self.cost_1)*d_t_1\n",
        "\n",
        "        d_t_2 = np.random.binomial(n_t_2, self.conversion_probability_2(p_t_1, p_t_2))\n",
        "        r_t_2 = (p_t_2 - self.cost_2)*d_t_2\n",
        "\n",
        "        return d_t_1, r_t_1, d_t_2, r_t_2"
      ],
      "metadata": {
        "id": "BM9MGdjJipck"
      },
      "execution_count": 2,
      "outputs": []
    },
    {
      "cell_type": "code",
      "source": [
        "class RBFGaussianProcess:\n",
        "    def __init__(self, scale=1, reg=1e-2):\n",
        "        self.scale = scale  # controls width of the Gaussian\n",
        "        self.reg = reg  # regularization parameter to be added to the diagonal of the kernel matrix\n",
        "        self.k_xx_inv = None  # stores inverse of kernel function\n",
        "        self.x = np.zeros((1, 2)) # Initialize empty array for x\n",
        "        self.y = np.zeros((1, 1))  # Initialize empty array for y\n",
        "\n",
        "    def rbf_kernel_incr_inv(self, B, C, D):\n",
        "        \"\"\"_summary_\n",
        "\n",
        "        Args:\n",
        "            B : The kernel values between existing training data and new data points\n",
        "            C : B transposed\n",
        "            D : Regularization term\n",
        "\n",
        "        Returns:\n",
        "            inverse of the kernel matrix online\n",
        "        \"\"\"\n",
        "        temp = np.linalg.inv(D - C @ self.k_xx_inv @ B)\n",
        "        block1 = self.k_xx_inv + self.k_xx_inv @ B @ temp @ C @ self.k_xx_inv\n",
        "        block2 = - self.k_xx_inv @ B @ temp\n",
        "        block3 = - temp @ C @ self.k_xx_inv\n",
        "        block4 = temp\n",
        "        res1 = np.concatenate((block1, block2), axis=1)\n",
        "        res2 = np.concatenate((block3, block4), axis=1)\n",
        "        res = np.concatenate((res1, res2), axis=0)\n",
        "        return res\n",
        "\n",
        "    def rbf_kernel(self, a, b):\n",
        "        \"\"\"Radial Basis Function (RBF) kernel for bivariate data.\"\"\"\n",
        "        if a.size == 0 or b.size == 0:\n",
        "            return np.eye(a.shape[0])  # Return a zero matrix if any input is empty\n",
        "        a_ = a.reshape(a.shape[0], -1)  # Ensure a is 2D\n",
        "        b_ = b.reshape(b.shape[0], -1)  # Ensure b is 2D\n",
        "        output = np.zeros((a_.shape[0], b_.shape[0]))  # Initialize output matrix with correct shape\n",
        "        for i in range(a_.shape[0]):\n",
        "            for j in range(b_.shape[0]):\n",
        "                output[i, j] = np.sum(np.power(a_[i] - b_[j], 2))\n",
        "        return np.exp(-self.scale * output)\n",
        "\n",
        "    def fit(self, x= np.zeros((1, 2)) , y=np.zeros((1, 1))):\n",
        "        x, y = np.array(x), np.array(y)\n",
        "\n",
        "\n",
        "        if self.k_xx_inv is None:\n",
        "            self.x = x.reshape(x.shape[0], -1)  # Ensure x is 2D\n",
        "            self.y = y.reshape(-1, 1)\n",
        "            k_xx = self.rbf_kernel(self.x, self.x) + self.reg * np.eye(self.x.shape[0])\n",
        "            self.k_xx_inv = np.linalg.inv(k_xx)\n",
        "        else:\n",
        "            B = self.rbf_kernel(self.x, x)\n",
        "            self.x = np.vstack((self.x, x.reshape(x.shape[0], -1)))  # Ensure x is 2D\n",
        "            self.y = np.vstack((self.y, y.reshape(-1, 1)))\n",
        "            self.k_xx_inv = self.rbf_kernel_incr_inv(B, B.T, np.eye(B.shape[1]) * self.reg)\n",
        "\n",
        "        return self\n",
        "\n",
        "    def predict(self, x_predict):\n",
        "        if self.k_xx_inv is None:\n",
        "            raise ValueError(\"The model has not been fitted yet.\")\n",
        "\n",
        "        x_predict = x_predict.reshape(x_predict.shape[0], -1)  # Ensure x_predict is 2D\n",
        "        k = self.rbf_kernel(x_predict, self.x)\n",
        "        k_ss = self.rbf_kernel(x_predict, x_predict)\n",
        "\n",
        "        mu_hat = k @ self.k_xx_inv @ self.y\n",
        "        sigma_hat = 1 - np.diag(k @ self.k_xx_inv @ k.T)\n",
        "\n",
        "        return mu_hat.ravel(), sigma_hat.ravel()"
      ],
      "metadata": {
        "id": "GEiZRfqRirHa"
      },
      "execution_count": 3,
      "outputs": []
    },
    {
      "cell_type": "code",
      "source": [
        "class GPUCBAgent:\n",
        "    def __init__(self, T, discretization=100):\n",
        "        self.T = T\n",
        "        self.arms1 = np.linspace(0, 1, discretization)\n",
        "        self.arms2 = np.linspace(0, 1, discretization)\n",
        "\n",
        "        self.arms = np.array(np.meshgrid(self.arms1, self.arms2)).T.reshape(-1, 2)\n",
        "        self.gp = RBFGaussianProcess(scale=2).fit()\n",
        "        self.a_t = None\n",
        "        self.action_hist = np.empty((0, 2))\n",
        "        self.reward_hist = np.array([])\n",
        "        self.mu_t = np.zeros(discretization*discretization)\n",
        "        self.sigma_t = np.zeros(discretization*discretization)\n",
        "        self.gamma = lambda t: np.log(t + 1)**2\n",
        "        self.beta = lambda t: 1 + 0.5 * np.sqrt(2 * (self.gamma(t) + 1 + np.log(T)))\n",
        "        self.N_pulls = np.zeros(discretization* discretization)\n",
        "        self.t = 0\n",
        "\n",
        "    def pull_arm(self):\n",
        "        self.mu_t, self.sigma_t = self.gp.predict(self.arms)\n",
        "\n",
        "        ucbs = self.mu_t + (self.beta(self.t) * self.sigma_t)\n",
        "\n",
        "        self.a_t = np.unravel_index(np.argmax(ucbs), ucbs.shape)\n",
        "\n",
        "        return self.arms[self.a_t[0]]\n",
        "\n",
        "    def update(self, r_t):\n",
        "        arm_selected = self.arms[self.a_t[0]]\n",
        "\n",
        "        self.N_pulls[self.a_t[0]] += 1\n",
        "        #self.action_hist = np.vstack((self.action_hist, arm_selected))\n",
        "        #self.reward_hist = np.append(self.reward_hist, r_t)\n",
        "        self.gp = self.gp.fit(arm_selected.reshape(1, -1), np.array([[r_t]]))\n",
        "        self.t += 1"
      ],
      "metadata": {
        "id": "vr00IRwxiwSy"
      },
      "execution_count": 4,
      "outputs": []
    },
    {
      "cell_type": "code",
      "source": [
        "def discretize(T):\n",
        "    epsilon = T**(-0.33)\n",
        "    K = int(1/epsilon)\n",
        "    return K\n",
        "\n",
        "def rescale(x, min_x, max_x):\n",
        "    return min_x + (max_x-min_x)*x"
      ],
      "metadata": {
        "id": "Ve511YPLiw2S"
      },
      "execution_count": 5,
      "outputs": []
    },
    {
      "cell_type": "code",
      "source": [
        "n_customers = 100\n",
        "cost = 0.1\n",
        "min_price, max_price = 0, 1\n",
        "T= 200\n",
        "\n",
        "K=20\n",
        "prices = np.linspace(min_price, max_price, K)\n",
        "\n",
        " # reward function\n",
        "reward_function = lambda price, n_sales: (price-cost)*n_sales\n",
        "maximum_profit = reward_function(max(prices), n_customers)\n",
        "\n",
        "#profit_curve = reward_function(prices, n_customers*conversion_probability(prices))\n",
        "#best_price_index = np.argmax(profit_curve)\n",
        "#best_price = prices[best_price_index]\n",
        "#expected_clairvoyant_rewards = np.repeat(profit_curve[best_price_index], T)"
      ],
      "metadata": {
        "id": "kmy-1AnWiz2K"
      },
      "execution_count": 18,
      "outputs": []
    },
    {
      "cell_type": "code",
      "source": [
        "cp1 = lambda p1, p2: 1-p1/1\n",
        "cp2 = lambda p1, p2: np.minimum(np.maximum(0, 1 + 0.5*p1 - p2), 1)"
      ],
      "metadata": {
        "id": "bZ8JZiL1xgQG"
      },
      "execution_count": 19,
      "outputs": []
    },
    {
      "cell_type": "code",
      "source": [
        "gp_agent = GPUCBAgent(T, discretization=K)\n",
        "env = PricingEnvironment(conversion_probability_1=cp1, conversion_probability_2=cp2, cost_1=cost, cost_2=cost)\n",
        "gp_agent_rewards = np.array([])\n",
        "gp_agent_arms = np.array([])\n",
        "for t in range(T):\n",
        "\n",
        "    p_t = gp_agent.pull_arm()\n",
        "\n",
        "    d_t_1, r_t_1, d_t_2, r_t_2 = env.round(p_t[0], n_customers, p_t[1], n_customers)\n",
        "\n",
        "    r_t= r_t_1 + r_t_2\n",
        "\n",
        "    gp_agent.update(r_t/n_customers)\n",
        "    gp_agent_rewards = np.append(gp_agent_rewards, r_t)\n",
        "    gp_agent_arms = np.append(gp_agent_arms, p_t)"
      ],
      "metadata": {
        "id": "_g0I4dhpi0VK"
      },
      "execution_count": 20,
      "outputs": []
    },
    {
      "cell_type": "code",
      "source": [
        "plt.plot(range(0,200,2), gp_agent_arms[range(0,200,2)], label='Item 1')\n",
        "plt.plot(range(1,200,2), gp_agent_arms[range(1,200,2)], label='Item 2')\n",
        "plt.title('If Item 1 Sells Less, Item 2 Sells More')\n",
        "plt.legend()"
      ],
      "metadata": {
        "colab": {
          "base_uri": "https://localhost:8080/",
          "height": 470
        },
        "id": "MLZdgLAnjitp",
        "outputId": "996d76a9-fde1-4fe8-de01-5d16d47ef16f"
      },
      "execution_count": 23,
      "outputs": [
        {
          "output_type": "execute_result",
          "data": {
            "text/plain": [
              "<matplotlib.legend.Legend at 0x7cc4e7ee76a0>"
            ]
          },
          "metadata": {},
          "execution_count": 23
        },
        {
          "output_type": "display_data",
          "data": {
            "text/plain": [
              "<Figure size 640x480 with 1 Axes>"
            ],
            "image/png": "[encoded data removed]"
          },
          "metadata": {}
        }
      ]
    }
  ]
}